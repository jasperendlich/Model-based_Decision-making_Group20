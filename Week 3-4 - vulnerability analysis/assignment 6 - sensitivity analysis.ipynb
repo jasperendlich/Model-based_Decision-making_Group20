{
 "cells": [
  {
   "cell_type": "markdown",
   "metadata": {},
   "source": [
    "# EPA1361 - Model-Based Decision Making\n",
    "# Week 3 - Sensitivity analysis\n",
    "\n",
    "This exercise uses the same predator-prey model we used for the multi-model exercise, focusing on the Python version. As with the other exercise, define a model object for the function below, with the uncertainty ranges provided:\n",
    "\n",
    "|Parameter\t|Range or value\t        |\n",
    "|-----------|--------------:|\n",
    "|prey_birth_rate    \t|0.015 – 0.035\t|\n",
    "|predation_rate|0.0005 – 0.003 \t|\n",
    "|predator_efficiency     \t|0.001 – 0.004\t    |\n",
    "|predator_loss_rate\t    |0.04 – 0.08\t    |\n",
    "\n",
    "* Sensitivity analysis often focuses on the final values of an outcome at the end of the simulation. However, we can also look at metrics that give us additional information about the behavior of the model over time. Using [the statsmodel library](https://www.statsmodels.org/stable/index.html) and an appropriate sampling design, fit a linear regression model for each of the following indicators. What can we conclude about the behavior of the model, and about the importance of the different inputs?\n",
    "\n",
    "  * The final values of the _prey_ outcome\n",
    "  * The mean values of the _prey_ outcome over time, within each experiment\n",
    "  * The standard deviations of the _prey_ outcome over time, within each experiment\n",
    "  \n",
    "\n",
    "* Use the Sobol sampling functionality included in the Workbench to perform experiments with a sample size of N=50, then analyze the results with SALib for the same three indicators. This requires specifying the keyword argument `'uncertainty_sampling'` of perform_experiments. Note that when using Sobol sampling, the meaning of the keyword argument `scenarios` changes a bit. In order to properly estimate Sobol scores as well as interaction effects, you require N * (2D+2) scenarios, where D is the number of uncertain parameters, and N is the value for scenarios passed to `perform_experiments`. Repeat the analysis for larger sample sizes, with N=250 and N=1000. How can we interpret the first-order and total indices? Are these sample sizes sufficient for a stable estimation of the indices? You'll need to use the [get_SALib_problem](https://emaworkbench.readthedocs.io/en/latest/ema_documentation/em_framework/salib_samplers.html) function to convert your Workbench experiments to a problem definition that you can pass to the SALib analysis function. \n",
    "\n",
    "* *hint*: sobol is a deterministic sequence of quasi random numbers. Thus, you can run with N=1000 and simply slice for 1:50 and 1:250.\n",
    "\n",
    "* Use the [Extra-Trees analysis](https://emaworkbench.readthedocs.io/en/latest/ema_documentation/analysis/feature_scoring.html) included in the Workbench to approximate the Sobol total indices, with a suitable sampling design. As a starting point, use an ensemble of 100 trees and a max_features parameter of 0.6, and set the analysis to regression mode. Are the estimated importances stable relative to the sample size and the analysis parameters? How do the results compare to the Sobol indices? For more details on this analysis see [Jaxa-Rozen & Kwakkel (2018)](https://www.sciencedirect.com/science/article/pii/S1364815217311581)"
   ]
  },
  {
   "cell_type": "code",
   "execution_count": 1,
   "metadata": {
    "jupyter": {
     "outputs_hidden": false
    }
   },
   "outputs": [
    {
     "name": "stderr",
     "output_type": "stream",
     "text": [
      "C:\\Users\\Stervende Zwaan\\Anaconda3\\lib\\site-packages\\ema_workbench\\em_framework\\evaluators.py:22: UserWarning: ipyparallel not installed - IpyparalleEvaluator not available\n",
      "  'ipyparallel not installed - IpyparalleEvaluator not available')\n",
      "C:\\Users\\Stervende Zwaan\\Anaconda3\\lib\\site-packages\\ema_workbench\\em_framework\\optimization.py:48: ImportWarning: platypus based optimization not available\n",
      "  warnings.warn(\"platypus based optimization not available\", ImportWarning)\n",
      "C:\\Users\\Stervende Zwaan\\Anaconda3\\lib\\site-packages\\ema_workbench\\analysis\\prim.py:31: ImportWarning: altair based interactive inspection not available\n",
      "  \"inspection not available\"), ImportWarning)\n"
     ]
    }
   ],
   "source": [
    "import numpy as np\n",
    "import matplotlib.pyplot as plt\n",
    "\n",
    "from ema_workbench import (Model, RealParameter, TimeSeriesOutcome, perform_experiments, ema_logging, SequentialEvaluator)\n",
    "\n",
    "from ema_workbench.em_framework.evaluators import LHS, SOBOL, MORRIS\n",
    "\n",
    "from ema_workbench.analysis import feature_scoring\n",
    "from ema_workbench.analysis.scenario_discovery_util import RuleInductionType\n",
    "from ema_workbench.em_framework.salib_samplers import get_SALib_problem\n",
    "from SALib.analyze import sobol\n",
    "\n",
    "def pred_prey(prey_birth_rate=0.025, predation_rate=0.0015, predator_efficiency=0.002,\n",
    "             predator_loss_rate=0.06, initial_prey=50, initial_predators=20, dt=0.25, \n",
    "             final_time=365, reps=1):\n",
    "\n",
    "    #Initial values\n",
    "    predators = np.zeros((reps, int(final_time/dt)+1))\n",
    "    prey = np.zeros((reps, int(final_time/dt)+1))\n",
    "    sim_time = np.zeros((reps, int(final_time/dt)+1))\n",
    "    \n",
    "    for r in range(reps):\n",
    "\n",
    "        predators[r,0] = initial_predators\n",
    "        prey[r,0] = initial_prey\n",
    "\n",
    "    #Calculate the time series\n",
    "    for t in range(0, sim_time.shape[1]-1):\n",
    "\n",
    "        dx = (prey_birth_rate*prey[r,t]) - (predation_rate*prey[r,t]*predators[r,t])\n",
    "        dy = (predator_efficiency*predators[r,t]*prey[r,t]) - (predator_loss_rate*predators[r,t])\n",
    "\n",
    "        prey[r,t+1] = max(prey[r,t] + dx*dt, 0)\n",
    "        predators[r,t+1] = max(predators[r,t] + dy*dt, 0)\n",
    "        sim_time[r,t+1] = (t+1)*dt\n",
    "    \n",
    "    #Return outcomes\n",
    "    return {'TIME':sim_time,\n",
    "            'predators':predators,\n",
    "            'prey':prey}"
   ]
  },
  {
   "cell_type": "code",
   "execution_count": 2,
   "metadata": {},
   "outputs": [],
   "source": [
    "uncertainties = [RealParameter('prey_birth_rate', 0.015, 0.035),\n",
    "                 RealParameter('predation_rate', 0.0005, 0.003),\n",
    "                 RealParameter('predator_efficiency', 0.001, 0.004),\n",
    "                 RealParameter('predator_loss_rate', 0.04, 0.08)]\n",
    "\n",
    "outcomes = [TimeSeriesOutcome('predators'),\n",
    "            TimeSeriesOutcome('prey')]"
   ]
  },
  {
   "cell_type": "markdown",
   "metadata": {},
   "source": [
    "## Linear regression"
   ]
  },
  {
   "cell_type": "code",
   "execution_count": 4,
   "metadata": {},
   "outputs": [],
   "source": [
    "import numpy as np\n",
    "from statistics import stdev \n",
    "import matplotlib.pyplot as plt\n",
    "from smt.sampling_methods import LHS\n",
    "import statsmodels.regression.linear_model as sm\n",
    "\n",
    "xlimits = np.array([[0.015, 0.035], [0.0005, 0.003],[0.001, 0.004],[0.04, 0.08]])\n",
    "sampling = LHS(xlimits=xlimits)\n",
    "\n",
    "num = 200\n",
    "x = sampling(num)\n",
    "\n",
    "from collections import defaultdict\n",
    "\n",
    "final= defaultdict(list)\n",
    "mean = defaultdict(list)\n",
    "StDev = defaultdict(list)\n",
    "\n",
    "for tripple in x:\n",
    "    for key in pred_prey(*tripple):\n",
    "        outcome = pred_prey(*tripple)[key][0]\n",
    "        final[key].append(outcome[-1])\n",
    "        mean[key].append(outcome.mean())\n",
    "        StDev[key].append(stdev(outcome))"
   ]
  },
  {
   "cell_type": "code",
   "execution_count": 5,
   "metadata": {},
   "outputs": [
    {
     "name": "stdout",
     "output_type": "stream",
     "text": [
      "                                 OLS Regression Results                                \n",
      "=======================================================================================\n",
      "Dep. Variable:                      y   R-squared (uncentered):                   0.749\n",
      "Model:                            OLS   Adj. R-squared (uncentered):              0.744\n",
      "Method:                 Least Squares   F-statistic:                              146.4\n",
      "Date:                Fri, 15 May 2020   Prob (F-statistic):                    9.95e-58\n",
      "Time:                        13:08:27   Log-Likelihood:                         -847.18\n",
      "No. Observations:                 200   AIC:                                      1702.\n",
      "Df Residuals:                     196   BIC:                                      1716.\n",
      "Df Model:                           4                                                  \n",
      "Covariance Type:            nonrobust                                                  \n",
      "==============================================================================\n",
      "                 coef    std err          t      P>|t|      [0.025      0.975]\n",
      "------------------------------------------------------------------------------\n",
      "x1           475.9977    175.290      2.715      0.007     130.300     821.695\n",
      "x2           399.6255   1561.120      0.256      0.798   -2679.124    3478.375\n",
      "x3         -8616.3380   1278.480     -6.740      0.000   -1.11e+04   -6094.995\n",
      "x4           597.0739     75.984      7.858      0.000     447.222     746.926\n",
      "==============================================================================\n",
      "Omnibus:                       27.282   Durbin-Watson:                   1.967\n",
      "Prob(Omnibus):                  0.000   Jarque-Bera (JB):               34.229\n",
      "Skew:                           0.914   Prob(JB):                     3.69e-08\n",
      "Kurtosis:                       3.876   Cond. No.                         86.8\n",
      "==============================================================================\n",
      "\n",
      "Warnings:\n",
      "[1] Standard Errors assume that the covariance matrix of the errors is correctly specified.\n"
     ]
    }
   ],
   "source": [
    "results = sm.OLS(final['prey'], x).fit()\n",
    "print(results.summary())"
   ]
  },
  {
   "cell_type": "code",
   "execution_count": 6,
   "metadata": {},
   "outputs": [
    {
     "name": "stdout",
     "output_type": "stream",
     "text": [
      "                                 OLS Regression Results                                \n",
      "=======================================================================================\n",
      "Dep. Variable:                      y   R-squared (uncentered):                   0.960\n",
      "Model:                            OLS   Adj. R-squared (uncentered):              0.959\n",
      "Method:                 Least Squares   F-statistic:                              1164.\n",
      "Date:                Fri, 15 May 2020   Prob (F-statistic):                   2.41e-135\n",
      "Time:                        13:08:27   Log-Likelihood:                         -639.64\n",
      "No. Observations:                 200   AIC:                                      1287.\n",
      "Df Residuals:                     196   BIC:                                      1300.\n",
      "Df Model:                           4                                                  \n",
      "Covariance Type:            nonrobust                                                  \n",
      "==============================================================================\n",
      "                 coef    std err          t      P>|t|      [0.025      0.975]\n",
      "------------------------------------------------------------------------------\n",
      "x1           470.5225     62.102      7.577      0.000     348.049     592.996\n",
      "x2           569.7600    553.072      1.030      0.304    -520.975    1660.495\n",
      "x3         -1.061e+04    452.938    -23.414      0.000   -1.15e+04   -9711.996\n",
      "x4           663.8412     26.920     24.660      0.000     610.752     716.931\n",
      "==============================================================================\n",
      "Omnibus:                       17.884   Durbin-Watson:                   2.274\n",
      "Prob(Omnibus):                  0.000   Jarque-Bera (JB):               20.300\n",
      "Skew:                           0.687   Prob(JB):                     3.91e-05\n",
      "Kurtosis:                       3.741   Cond. No.                         86.8\n",
      "==============================================================================\n",
      "\n",
      "Warnings:\n",
      "[1] Standard Errors assume that the covariance matrix of the errors is correctly specified.\n"
     ]
    }
   ],
   "source": [
    "results = sm.OLS(mean['prey'], x).fit()\n",
    "print(results.summary())"
   ]
  },
  {
   "cell_type": "code",
   "execution_count": 7,
   "metadata": {
    "scrolled": true
   },
   "outputs": [
    {
     "name": "stdout",
     "output_type": "stream",
     "text": [
      "                                 OLS Regression Results                                \n",
      "=======================================================================================\n",
      "Dep. Variable:                      y   R-squared (uncentered):                   0.933\n",
      "Model:                            OLS   Adj. R-squared (uncentered):              0.932\n",
      "Method:                 Least Squares   F-statistic:                              686.5\n",
      "Date:                Fri, 15 May 2020   Prob (F-statistic):                   4.79e-114\n",
      "Time:                        13:08:27   Log-Likelihood:                         -551.59\n",
      "No. Observations:                 200   AIC:                                      1111.\n",
      "Df Residuals:                     196   BIC:                                      1124.\n",
      "Df Model:                           4                                                  \n",
      "Covariance Type:            nonrobust                                                  \n",
      "==============================================================================\n",
      "                 coef    std err          t      P>|t|      [0.025      0.975]\n",
      "------------------------------------------------------------------------------\n",
      "x1            50.3531     39.985      1.259      0.209     -28.503     129.210\n",
      "x2          2045.2200    356.105      5.743      0.000    1342.931    2747.509\n",
      "x3          1976.3466    291.632      6.777      0.000    1401.207    2551.486\n",
      "x4            71.8133     17.333      4.143      0.000      37.631     105.996\n",
      "==============================================================================\n",
      "Omnibus:                       35.555   Durbin-Watson:                   2.365\n",
      "Prob(Omnibus):                  0.000   Jarque-Bera (JB):               77.340\n",
      "Skew:                           0.822   Prob(JB):                     1.61e-17\n",
      "Kurtosis:                       5.565   Cond. No.                         86.8\n",
      "==============================================================================\n",
      "\n",
      "Warnings:\n",
      "[1] Standard Errors assume that the covariance matrix of the errors is correctly specified.\n"
     ]
    }
   ],
   "source": [
    "results = sm.OLS(StDev['prey'], x).fit()\n",
    "print(results.summary())"
   ]
  },
  {
   "cell_type": "markdown",
   "metadata": {},
   "source": [
    "## Sobol"
   ]
  },
  {
   "cell_type": "code",
   "execution_count": 8,
   "metadata": {},
   "outputs": [],
   "source": [
    "if __name__ == \"__main__\":\n",
    "    ema_logging.log_to_stderr(level=ema_logging.INFO)\n",
    "    \n",
    "    Python = Model('PredPreyPython', function=pred_prey)\n",
    "\n",
    "    Python.uncertainties = uncertainties\n",
    "\n",
    "    Python.outcomes = outcomes"
   ]
  },
  {
   "cell_type": "code",
   "execution_count": 9,
   "metadata": {
    "scrolled": false
   },
   "outputs": [
    {
     "name": "stderr",
     "output_type": "stream",
     "text": [
      "[MainProcess/INFO] performing 1000 scenarios * 1 policies * 1 model(s) = 1000 experiments\n",
      "[MainProcess/INFO] performing experiments sequentially\n",
      "[MainProcess/INFO] 100 cases completed\n",
      "[MainProcess/INFO] 200 cases completed\n",
      "[MainProcess/INFO] 300 cases completed\n",
      "[MainProcess/INFO] 400 cases completed\n",
      "[MainProcess/INFO] 500 cases completed\n",
      "[MainProcess/INFO] 600 cases completed\n",
      "[MainProcess/INFO] 700 cases completed\n",
      "[MainProcess/INFO] 800 cases completed\n",
      "[MainProcess/INFO] 900 cases completed\n",
      "[MainProcess/INFO] 1000 cases completed\n",
      "[MainProcess/INFO] experiments finished\n"
     ]
    }
   ],
   "source": [
    "with SequentialEvaluator(Python) as evaluator:\n",
    "    experiments, outcomes = evaluator.perform_experiments(scenarios=100, uncertainty_sampling='sobol') "
   ]
  },
  {
   "cell_type": "code",
   "execution_count": 10,
   "metadata": {},
   "outputs": [],
   "source": [
    "def three_to_one_dimensions(outcome):\n",
    "    d=dict()\n",
    "    for i in outcome:\n",
    "        a=[]\n",
    "        for j in outcome[i]:\n",
    "            a.extend(j[0])\n",
    "        d.update({i : np.array(a)})\n",
    "    return d"
   ]
  },
  {
   "cell_type": "code",
   "execution_count": 11,
   "metadata": {
    "scrolled": true
   },
   "outputs": [],
   "source": [
    "from SALib.analyze import sobol\n",
    "from ema_workbench.em_framework.salib_samplers import get_SALib_problem\n",
    "import pandas as pd\n",
    "\n",
    "outcomes_one = three_to_one_dimensions(outcomes)\n",
    "problem = get_SALib_problem(Python.uncertainties)"
   ]
  },
  {
   "cell_type": "markdown",
   "metadata": {},
   "source": [
    "### 50, 250, 1000 sample sizes"
   ]
  },
  {
   "cell_type": "code",
   "execution_count": 12,
   "metadata": {
    "scrolled": false
   },
   "outputs": [
    {
     "data": {
      "text/plain": [
       "50"
      ]
     },
     "metadata": {},
     "output_type": "display_data"
    },
    {
     "data": {
      "text/html": [
       "<div>\n",
       "<style scoped>\n",
       "    .dataframe tbody tr th:only-of-type {\n",
       "        vertical-align: middle;\n",
       "    }\n",
       "\n",
       "    .dataframe tbody tr th {\n",
       "        vertical-align: top;\n",
       "    }\n",
       "\n",
       "    .dataframe thead th {\n",
       "        text-align: right;\n",
       "    }\n",
       "</style>\n",
       "<table border=\"1\" class=\"dataframe\">\n",
       "  <thead>\n",
       "    <tr style=\"text-align: right;\">\n",
       "      <th></th>\n",
       "      <th>ST</th>\n",
       "      <th>ST_conf</th>\n",
       "      <th>S1</th>\n",
       "      <th>S1_conf</th>\n",
       "    </tr>\n",
       "  </thead>\n",
       "  <tbody>\n",
       "    <tr>\n",
       "      <th>predation_rate</th>\n",
       "      <td>0.002316</td>\n",
       "      <td>0.006194</td>\n",
       "      <td>0.017749</td>\n",
       "      <td>0.294499</td>\n",
       "    </tr>\n",
       "    <tr>\n",
       "      <th>predator_efficiency</th>\n",
       "      <td>0.009237</td>\n",
       "      <td>0.024659</td>\n",
       "      <td>0.035328</td>\n",
       "      <td>0.587439</td>\n",
       "    </tr>\n",
       "    <tr>\n",
       "      <th>predator_loss_rate</th>\n",
       "      <td>0.020720</td>\n",
       "      <td>0.055214</td>\n",
       "      <td>0.052731</td>\n",
       "      <td>0.878777</td>\n",
       "    </tr>\n",
       "    <tr>\n",
       "      <th>prey_birth_rate</th>\n",
       "      <td>0.036718</td>\n",
       "      <td>0.097674</td>\n",
       "      <td>0.069958</td>\n",
       "      <td>1.168475</td>\n",
       "    </tr>\n",
       "  </tbody>\n",
       "</table>\n",
       "</div>"
      ],
      "text/plain": [
       "                           ST   ST_conf        S1   S1_conf\n",
       "predation_rate       0.002316  0.006194  0.017749  0.294499\n",
       "predator_efficiency  0.009237  0.024659  0.035328  0.587439\n",
       "predator_loss_rate   0.020720  0.055214  0.052731  0.878777\n",
       "prey_birth_rate      0.036718  0.097674  0.069958  1.168475"
      ]
     },
     "metadata": {},
     "output_type": "display_data"
    },
    {
     "data": {
      "text/plain": [
       "250"
      ]
     },
     "metadata": {},
     "output_type": "display_data"
    },
    {
     "data": {
      "text/html": [
       "<div>\n",
       "<style scoped>\n",
       "    .dataframe tbody tr th:only-of-type {\n",
       "        vertical-align: middle;\n",
       "    }\n",
       "\n",
       "    .dataframe tbody tr th {\n",
       "        vertical-align: top;\n",
       "    }\n",
       "\n",
       "    .dataframe thead th {\n",
       "        text-align: right;\n",
       "    }\n",
       "</style>\n",
       "<table border=\"1\" class=\"dataframe\">\n",
       "  <thead>\n",
       "    <tr style=\"text-align: right;\">\n",
       "      <th></th>\n",
       "      <th>ST</th>\n",
       "      <th>ST_conf</th>\n",
       "      <th>S1</th>\n",
       "      <th>S1_conf</th>\n",
       "    </tr>\n",
       "  </thead>\n",
       "  <tbody>\n",
       "    <tr>\n",
       "      <th>predation_rate</th>\n",
       "      <td>0.000398</td>\n",
       "      <td>0.000203</td>\n",
       "      <td>0.009435</td>\n",
       "      <td>0.012873</td>\n",
       "    </tr>\n",
       "    <tr>\n",
       "      <th>predator_efficiency</th>\n",
       "      <td>0.001593</td>\n",
       "      <td>0.000811</td>\n",
       "      <td>0.018722</td>\n",
       "      <td>0.025841</td>\n",
       "    </tr>\n",
       "    <tr>\n",
       "      <th>predator_loss_rate</th>\n",
       "      <td>0.003590</td>\n",
       "      <td>0.001828</td>\n",
       "      <td>0.027859</td>\n",
       "      <td>0.038902</td>\n",
       "    </tr>\n",
       "    <tr>\n",
       "      <th>prey_birth_rate</th>\n",
       "      <td>0.006393</td>\n",
       "      <td>0.003254</td>\n",
       "      <td>0.036843</td>\n",
       "      <td>0.052055</td>\n",
       "    </tr>\n",
       "  </tbody>\n",
       "</table>\n",
       "</div>"
      ],
      "text/plain": [
       "                           ST   ST_conf        S1   S1_conf\n",
       "predation_rate       0.000398  0.000203  0.009435  0.012873\n",
       "predator_efficiency  0.001593  0.000811  0.018722  0.025841\n",
       "predator_loss_rate   0.003590  0.001828  0.027859  0.038902\n",
       "prey_birth_rate      0.006393  0.003254  0.036843  0.052055"
      ]
     },
     "metadata": {},
     "output_type": "display_data"
    },
    {
     "data": {
      "text/plain": [
       "1000"
      ]
     },
     "metadata": {},
     "output_type": "display_data"
    },
    {
     "data": {
      "text/html": [
       "<div>\n",
       "<style scoped>\n",
       "    .dataframe tbody tr th:only-of-type {\n",
       "        vertical-align: middle;\n",
       "    }\n",
       "\n",
       "    .dataframe tbody tr th {\n",
       "        vertical-align: top;\n",
       "    }\n",
       "\n",
       "    .dataframe thead th {\n",
       "        text-align: right;\n",
       "    }\n",
       "</style>\n",
       "<table border=\"1\" class=\"dataframe\">\n",
       "  <thead>\n",
       "    <tr style=\"text-align: right;\">\n",
       "      <th></th>\n",
       "      <th>ST</th>\n",
       "      <th>ST_conf</th>\n",
       "      <th>S1</th>\n",
       "      <th>S1_conf</th>\n",
       "    </tr>\n",
       "  </thead>\n",
       "  <tbody>\n",
       "    <tr>\n",
       "      <th>predation_rate</th>\n",
       "      <td>0.000057</td>\n",
       "      <td>0.000015</td>\n",
       "      <td>0.002035</td>\n",
       "      <td>0.001489</td>\n",
       "    </tr>\n",
       "    <tr>\n",
       "      <th>predator_efficiency</th>\n",
       "      <td>0.000228</td>\n",
       "      <td>0.000062</td>\n",
       "      <td>0.003957</td>\n",
       "      <td>0.002979</td>\n",
       "    </tr>\n",
       "    <tr>\n",
       "      <th>predator_loss_rate</th>\n",
       "      <td>0.000513</td>\n",
       "      <td>0.000139</td>\n",
       "      <td>0.005765</td>\n",
       "      <td>0.004469</td>\n",
       "    </tr>\n",
       "    <tr>\n",
       "      <th>prey_birth_rate</th>\n",
       "      <td>0.000911</td>\n",
       "      <td>0.000247</td>\n",
       "      <td>0.007459</td>\n",
       "      <td>0.005959</td>\n",
       "    </tr>\n",
       "  </tbody>\n",
       "</table>\n",
       "</div>"
      ],
      "text/plain": [
       "                           ST   ST_conf        S1   S1_conf\n",
       "predation_rate       0.000057  0.000015  0.002035  0.001489\n",
       "predator_efficiency  0.000228  0.000062  0.003957  0.002979\n",
       "predator_loss_rate   0.000513  0.000139  0.005765  0.004469\n",
       "prey_birth_rate      0.000911  0.000247  0.007459  0.005959"
      ]
     },
     "metadata": {},
     "output_type": "display_data"
    }
   ],
   "source": [
    "from IPython.core import display as ICD\n",
    "\n",
    "for i in [50,250,1000]:\n",
    "    Si = sobol.analyze(problem, outcomes_one['prey'][:i], calc_second_order=True, print_to_console=False)\n",
    "    Si_filter = {k:Si[k] for k in ['ST','ST_conf','S1','S1_conf']}\n",
    "    Si_df = pd.DataFrame(Si_filter, index=problem['names'])\n",
    "    ICD.display(i,Si_df)"
   ]
  },
  {
   "cell_type": "markdown",
   "metadata": {},
   "source": [
    "## Extra trees"
   ]
  },
  {
   "cell_type": "code",
   "execution_count": 13,
   "metadata": {},
   "outputs": [],
   "source": [
    "def three_to_two_dimensions(outcome):\n",
    "    d=dict()\n",
    "    for i in outcome:\n",
    "        a=[]\n",
    "        for j in outcome[i]:\n",
    "             a.append(j[0])\n",
    "        d.update({i : np.array(a)})\n",
    "    return d"
   ]
  },
  {
   "cell_type": "code",
   "execution_count": 14,
   "metadata": {
    "scrolled": true
   },
   "outputs": [
    {
     "name": "stderr",
     "output_type": "stream",
     "text": [
      "[MainProcess/INFO] policy dropped from analysis because only a single category\n",
      "[MainProcess/INFO] model dropped from analysis because only a single category\n",
      "[MainProcess/INFO] policy dropped from analysis because only a single category\n",
      "[MainProcess/INFO] model dropped from analysis because only a single category\n"
     ]
    }
   ],
   "source": [
    "from ema_workbench.analysis.feature_scoring import get_feature_scores_all\n",
    "\n",
    "x = experiments\n",
    "y = three_to_two_dimensions(outcomes)\n",
    "\n",
    "scores = get_feature_scores_all(x, y, alg='extra trees',mode=RuleInductionType.REGRESSION)"
   ]
  },
  {
   "cell_type": "code",
   "execution_count": 15,
   "metadata": {},
   "outputs": [
    {
     "data": {
      "image/png": "[encoded data removed]",
      "text/plain": [
       "<Figure size 432x288 with 2 Axes>"
      ]
     },
     "metadata": {
      "needs_background": "light"
     },
     "output_type": "display_data"
    }
   ],
   "source": [
    "import seaborn as sns\n",
    "sns.heatmap(scores,annot=True, cmap='viridis')\n",
    "plt.show()"
   ]
  }
 ],
 "metadata": {
  "kernelspec": {
   "display_name": "Python 3",
   "language": "python",
   "name": "python3"
  },
  "language_info": {
   "codemirror_mode": {
    "name": "ipython",
    "version": 3
   },
   "file_extension": ".py",
   "mimetype": "text/x-python",
   "name": "python",
   "nbconvert_exporter": "python",
   "pygments_lexer": "ipython3",
   "version": "3.7.3"
  }
 },
 "nbformat": 4,
 "nbformat_minor": 4
}
