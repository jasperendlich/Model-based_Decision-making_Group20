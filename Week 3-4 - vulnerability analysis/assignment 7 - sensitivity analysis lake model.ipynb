{
 "cells": [
  {
   "cell_type": "markdown",
   "metadata": {},
   "source": [
    "# Lake model continued\n",
    "\n",
    "In the previous week you used the lake problem as a means of getting aquinted with the workbench. In this assignment we will continue with the lake problem, focussing explicitly on using it for open exploration. You can use the second part of [this tutoria](https://emaworkbench.readthedocs.io/en/latest/indepth_tutorial/open-exploration.html) for help.\n",
    "\n",
    "**It is paramount that you are using the lake problem with 100 decision variables, rather than the one found on the website with the seperate anthropogenic release decision**\n",
    "\n",
    "## Apply sensitivity analysis\n",
    "There is substantial support in the ema_workbench for global sensitivity. For this, the workbench relies on [SALib](https://salib.readthedocs.io/en/latest/) and feature scoring which is a machine learning alternative for global sensitivity analysis. \n",
    "\n",
    "\n",
    "1. Apply Sobol with 3 seperate release policies (0, 0.05, and 0.1) and analyse the results for each release policy seperately focusing on the reliability objective. Do the sensitivities change depending on the release policy? Can you explain why or why not?\n",
    "\n",
    "*hint: you can use sobol sampling for the uncertainties, and set policies to a list with the 3 different release policies. Next, for the analysis using logical indexing on the experiment.policy column you can select the results for each seperate release policy and apply sobol to each of the three seperate release policies. If this sounds too complicated, just do it on each release policy seperately.*\n",
    "\n"
   ]
  },
  {
   "cell_type": "code",
   "execution_count": 1,
   "metadata": {},
   "outputs": [],
   "source": [
    "from lakemodel_function import lake_problem\n",
    "\n",
    "from ema_workbench import Model, RealParameter, TimeSeriesOutcome, ScalarOutcome, Policy, ema_logging\n",
    "\n",
    "if __name__ == \"__main__\":\n",
    "    ema_logging.log_to_stderr(level=ema_logging.INFO)\n",
    "\n",
    "    model = Model('lakemodel', function=lake_problem)\n",
    "    \n",
    "    model.levers = [RealParameter(f\"l{i}\",0,0.1) for i in range(100)]\n",
    "    \n",
    "    model.uncertainties = [RealParameter('mean', 0.01, 0.05),\n",
    "                       RealParameter('stdev', 0.001, 0.005),\n",
    "                       RealParameter('b', 0.1, 0.45),\n",
    "                       RealParameter('q', 2, 4.5),\n",
    "                       RealParameter('delta', 0.93, 0.99)]\n",
    "    \n",
    "    model.outcomes = [ScalarOutcome('max_P'),\n",
    "                      ScalarOutcome('utility'),\n",
    "                      ScalarOutcome('inertia'),\n",
    "                      ScalarOutcome('reliability')]"
   ]
  },
  {
   "cell_type": "code",
   "execution_count": 2,
   "metadata": {},
   "outputs": [],
   "source": [
    "from ema_workbench import Policy\n",
    "\n",
    "policies = [Policy('0', **{l.name:0 for l in model.levers}),\n",
    "            Policy('0.05', **{l.name:0.05 for l in model.levers}),\n",
    "            Policy('0.1', **{l.name:0.1 for l in model.levers})]"
   ]
  },
  {
   "cell_type": "code",
   "execution_count": 3,
   "metadata": {},
   "outputs": [
    {
     "name": "stderr",
     "output_type": "stream",
     "text": [
      "[MainProcess/INFO] pool started\n",
      "[MainProcess/INFO] performing 1200 scenarios * 3 policies * 1 model(s) = 3600 experiments\n",
      "[MainProcess/INFO] 360 cases completed\n",
      "[MainProcess/INFO] 720 cases completed\n",
      "[MainProcess/INFO] 1080 cases completed\n",
      "[MainProcess/INFO] 1440 cases completed\n",
      "[MainProcess/INFO] 1800 cases completed\n",
      "[MainProcess/INFO] 2160 cases completed\n",
      "[MainProcess/INFO] 2520 cases completed\n",
      "[MainProcess/INFO] 2880 cases completed\n",
      "[MainProcess/INFO] 3240 cases completed\n",
      "[MainProcess/INFO] 3600 cases completed\n",
      "[MainProcess/INFO] experiments finished\n",
      "[MainProcess/INFO] terminating pool\n"
     ]
    }
   ],
   "source": [
    "from ema_workbench import MultiprocessingEvaluator, ema_logging,SequentialEvaluator\n",
    "from ema_workbench.em_framework.evaluators import SOBOL\n",
    "from ema_workbench.em_framework import get_SALib_problem\n",
    "\n",
    "ema_logging.log_to_stderr(ema_logging.INFO)\n",
    "\n",
    "with MultiprocessingEvaluator(model) as evaluator:\n",
    "    experimentsSOBOL, resultsSOBOL = evaluator.perform_experiments(100, policies, uncertainty_sampling=SOBOL)"
   ]
  },
  {
   "cell_type": "code",
   "execution_count": 4,
   "metadata": {},
   "outputs": [
    {
     "data": {
      "text/plain": [
       "{'num_vars': 5,\n",
       " 'names': ['b', 'delta', 'mean', 'q', 'stdev'],\n",
       " 'bounds': [(0.1, 0.45), (0.93, 0.99), (0.01, 0.05), (2, 4.5), (0.001, 0.005)]}"
      ]
     },
     "execution_count": 4,
     "metadata": {},
     "output_type": "execute_result"
    }
   ],
   "source": [
    "problem = get_SALib_problem(model.uncertainties)\n",
    "problem"
   ]
  },
  {
   "cell_type": "code",
   "execution_count": null,
   "metadata": {},
   "outputs": [],
   "source": [
    "from SALib.analyze.sobol import analyze\n",
    "sobol_results = {}\n",
    "\n",
    "for policy in experiments.policy.unique():\n",
    "    logical = experiments.policy == policy\n",
    "    y = results['reliability']\n",
    "    indices = analyze(problem,y)\n",
    "    sobol_results[policy] = indices"
   ]
  },
  {
   "cell_type": "code",
   "execution_count": null,
   "metadata": {},
   "outputs": [],
   "source": [
    "from IPython.core import display as ICD\n",
    "import pandas as pd\n",
    "\n",
    "for i in sobol_results.keys():\n",
    "    Si_filter = {k:sobol_results[i][k] for k in ['ST','ST_conf','S1','S1_conf']}\n",
    "    Si_df = pd.DataFrame(Si_filter, index=problem['names'])\n",
    "    ICD.display(i,Si_df)"
   ]
  },
  {
   "cell_type": "markdown",
   "metadata": {},
   "source": [
    "2. Repeat the above analysis for the 3 release policies but now with extra trees feature scoring and for all outcomes of interest. As a bonus, use the sobol experiment results as input for extra trees, and compare the results with those resulting from latin hypercube sampling.\n",
    "\n",
    "*hint: you can use [seaborn heatmaps](https://seaborn.pydata.org/generated/seaborn.heatmap.html) for a nice figure of the results*\n"
   ]
  },
  {
   "cell_type": "code",
   "execution_count": null,
   "metadata": {
    "scrolled": true
   },
   "outputs": [],
   "source": [
    "with MultiprocessingEvaluator(model) as evaluator:\n",
    "    experimentsLHS, resultsLHS = evaluator.perform_experiments(100, policies, uncertainty_sampling= 'lhs')"
   ]
  },
  {
   "cell_type": "code",
   "execution_count": null,
   "metadata": {},
   "outputs": [],
   "source": [
    "import seaborn as sns\n",
    "import matplotlib.pyplot as plt\n",
    "from ema_workbench.analysis import feature_scoring\n",
    "\n",
    "cleaned_experimentsLHS = experimentsLHS.drop(columns=[l.name for l in model.levers]).drop(columns=['policy','model'])\n",
    "cleaned_experimentsSOBOL = experimentsSOBOL.drop(columns=[l.name for l in model.levers]).drop(columns=['policy','model'])\n",
    "\n",
    "for policy in experimentsLHS.policy.unique():\n",
    "    \n",
    "    fig, (ax0, ax1) = plt.subplots(1, 2,figsize=(15, 5))\n",
    "    fig.suptitle('Policy: %s'%policy)\n",
    "    \n",
    "    for i,j in enumerate(['SOBOL','LHS']):  \n",
    "        \n",
    "        logical = eval('experiments'+j).policy == policy\n",
    "        subset_results = {k:v[logical] for k,v in eval('results'+j).items()}\n",
    "        scores = feature_scoring.get_feature_scores_all(eval('cleaned_experiments'+j)[logical],subset_results,alg='extra trees')\n",
    "        \n",
    "        eval('ax'+str(i)).set_title(j)\n",
    "        sns.heatmap(scores,annot=True, cmap='viridis',ax=eval('ax'+str(i)))\n",
    "\n",
    "    plt.show()"
   ]
  }
 ],
 "metadata": {
  "kernelspec": {
   "display_name": "Python 3",
   "language": "python",
   "name": "python3"
  },
  "language_info": {
   "codemirror_mode": {
    "name": "ipython",
    "version": 3
   },
   "file_extension": ".py",
   "mimetype": "text/x-python",
   "name": "python",
   "nbconvert_exporter": "python",
   "pygments_lexer": "ipython3",
   "version": "3.7.3"
  }
 },
 "nbformat": 4,
 "nbformat_minor": 4
}
